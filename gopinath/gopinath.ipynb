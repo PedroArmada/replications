{
  "cells": [
    {
      "cell_type": "markdown",
      "metadata": {
        "id": "7bVXgrS-qXbR"
      },
      "source": [
        "#### Firm's Problem\n",
        "\n",
        "Let $\\mathbf{x} = (a,k)$ denote the vector of **endogenous state variables**, $\\mathbf{z} = (z^T,z^P)$ denote the vector of **exogenous idiosyncratic states**, and $\\mathbf{\\Omega} = (w,r)$ the vector of **aggregate states**\n",
        "\n",
        "\n",
        "$$V(\\mathbf{x},\\mathbf{Z};\\mathbf{\\Omega}) = \\max_{ c,a',k',l  } u(c)+ \\beta \\mathbb{E} V(\\mathbf{x}',\\mathbf{Z}';\\mathbf{\\Omega}')$$\n",
        "\n",
        "$$c + a' + \\phi(k,k') = p(y) y - w l - (r + \\delta) k + (1+r)a$$\n",
        "\n",
        "$$y = z k^\\alpha l^{1-\\alpha}$$\n",
        "\n",
        "$$y = p^{-\\theta}$$\n",
        "\n",
        "$$k' \\leq \\lambda(k',a')$$\n",
        "\n",
        "##### Productivity\n",
        "\n",
        "$$z = z^P \\exp(z^T) $$\n",
        "\n",
        "$$z^{T\\prime} = - \\frac{\\sigma^2}{2(1+\\rho)} + \\rho z^T + \\sigma u^{z\\prime} \\quad \\text{with } u^z \\sim N(0,1)$$\n",
        "\n",
        "$$z^P =\n",
        "\\left\\{\n",
        "\\begin{array}{ll}\n",
        "      z_L & \\text{with prob } \\pi \\\\\n",
        "      z_H & \\text{with prob } 1-\\pi \\\\\n",
        "\\end{array}\n",
        "\\right.$$\n",
        "\n",
        "##### Borrowing Constraints\n",
        "\n",
        "$$k' \\leq \\lambda_0 a' + \\lambda_1 \\Psi (k')$$\n",
        "\n",
        "$$\\Psi (k) = \\exp(k) - 1$$\n",
        "\n",
        "###### Capital Adjustment Costs\n",
        "\n",
        "$$\\phi(k,k') = \\frac{\\psi (k' - k)}{2k} $$"
      ]
    },
    {
      "cell_type": "code",
      "execution_count": null,
      "metadata": {
        "colab": {
          "base_uri": "https://localhost:8080/"
        },
        "id": "bcuStd92pL5C",
        "outputId": "7d02202b-9ae9-426f-8933-51e004ccf950"
      },
      "outputs": [],
      "source": [
        "!pip install quantecon\n",
        "%matplotlib inline\n",
        "import matplotlib.pyplot as plt\n",
        "plt.rcParams[\"figure.figsize\"] = (11, 5)  #set default figure size\n",
        "import seaborn as sns\n",
        "import numpy as np\n",
        "import pandas as pd\n",
        "from numba import jit, njit, prange\n",
        "from quantecon import MarkovChain\n",
        "from quantecon.markov.approximation import tauchen\n",
        "import os\n",
        "os.environ['JAX_PLATFORMS'] = 'cpu'\n",
        "import jax\n",
        "import jax.numpy as jnp\n",
        "!nvidia-smi\n",
        "jax.config.update(\"jax_enable_x64\", True)"
      ]
    },
    {
      "cell_type": "code",
      "execution_count": 3,
      "metadata": {
        "id": "YeVa33mbpC6G"
      },
      "outputs": [],
      "source": [
        "def Model(β    = 0.865,\n",
        "          γ    = 2.00,\n",
        "          δ    = 0.06,\n",
        "          θ    = 3.00,\n",
        "          α    = 0.35,\n",
        "          ρ    = 0.59,\n",
        "          σ    = 0.13,\n",
        "          π    = 0.80,\n",
        "          zl   = 0.785,\n",
        "          zh   = 1.860,\n",
        "          ψ    = 3.20,\n",
        "          λ0   = 0.98,\n",
        "          λ1   = 0.047,\n",
        "          # λ0   = 1.06,\n",
        "          # λ1   = 0.00,\n",
        "          w    = 1.00,\n",
        "          r    = 0.10,\n",
        "          ):\n",
        "\n",
        "  mc = tauchen(n = 11, rho = ρ, sigma = σ, mu = -(σ**2)/(2*(1+ρ)), n_std = 3)\n",
        "  ztg, ztp  = mc.state_values, mc.P\n",
        "\n",
        "  zp = jnp.kron(np.eye(2), ztp)\n",
        "  zg = jnp.concatenate(( zl*jnp.exp(ztg) , zh*jnp.exp(ztg) ))\n",
        "  zn = jnp.size(zg, 0)\n",
        "#   ag = jnp.geomspace(start = 0.01, stop = 3.00, num = 120)\n",
        "#   kg = jnp.geomspace(start = 0.01, stop = 6.00, num = 120)\n",
        "  ag = jnp.linspace(start = 0.01, stop = 3.00, num = 120)\n",
        "  kg = jnp.linspace(start = 0.01, stop = 6.00, num = 120)\n",
        "  an, kn = jnp.size(ag, 0), jnp.size(kg, 0)\n",
        "\n",
        "  xga, xgk = jnp.meshgrid(ag, kg, indexing='ij')\n",
        "  xg = jnp.vstack([xga.ravel(), xgk.ravel()]).T\n",
        "  xn = jnp.size(xg,0)\n",
        "\n",
        "  xd_f = xg[:,1] <= λ0 * xg[:,0] + λ1 * (jnp.exp(xg[:,1]) - 1) # dummies for feasible (a,k) combo\n",
        "  xi_f = jnp.arange(xn)[xd_f] # indices of feasible (a,k) combos\n",
        "  xg_f = xg[ xi_f ,:] # values of feasible (a,k) combos\n",
        "  xn_f = jnp.size(xg_f,0)\n",
        "\n",
        "  agx, kgx = xg[:,0], xg[:,1]\n",
        "  agx_f, kgx_f = xg_f[:,0], xg_f[:,1]\n",
        "\n",
        "  params  = β ,γ ,δ ,θ ,α ,ρ ,σ ,π ,zl,zh,ψ ,λ0,λ1,w ,r\n",
        "  sizes = xn_f, zn\n",
        "  arrays = agx_f, kgx_f, zg, zp\n",
        "\n",
        "  # Shift arrays to the device (e.g., GPU)\n",
        "  arrays = tuple(map(jax.device_put, arrays))\n",
        "\n",
        "  return params, sizes, arrays"
      ]
    },
    {
      "cell_type": "code",
      "execution_count": 5,
      "metadata": {
        "id": "NwZFNeLmtwCI"
      },
      "outputs": [],
      "source": [
        "def _B(v, params, arrays, i, j, ip):\n",
        "\n",
        "    β ,γ ,δ ,θ ,α ,ρ ,σ ,π ,zl,zh,ψ ,λ0,λ1,w ,r = params\n",
        "    ag, kg, zg, zp = arrays\n",
        "\n",
        "    a, k, z, ap, kp  = ag[i], kg[i], zg[j], ag[ip], kg[ip]\n",
        "\n",
        "    μ = θ / (θ - 1)\n",
        "    l = (z * (k ** α) )**((θ - 1)/(1 + α*(θ-1))) * ((μ * w) / (1-α))**(-θ / (1 + α*(θ-1)))\n",
        "    y = z * (k ** α) * (l ** (1-α))\n",
        "    pi = y ** ((θ-1)/θ) - w * l - (r+δ) * k + (1+r) * a\n",
        "\n",
        "    adj = ψ * ( (kp - k) ** 2 ) / ( 2 * k )\n",
        "    c = pi - adj - ap\n",
        "\n",
        "    u = (c ** (1-γ) - 1) / (1-γ)\n",
        "\n",
        "    EV = jnp.sum(v[ip, :] * zp[j, :])\n",
        "\n",
        "    return jnp.where(c > 0, u + β * EV, -jnp.inf)"
      ]
    },
    {
      "cell_type": "code",
      "execution_count": 6,
      "metadata": {
        "id": "OaMx-wG4u4pg"
      },
      "outputs": [],
      "source": [
        "B_1    = jax.vmap(_B,  in_axes=(None, None, None, None, None, 0))\n",
        "B_2    = jax.vmap(B_1, in_axes=(None, None, None, None, 0,    None))\n",
        "B_vmap = jax.vmap(B_2, in_axes=(None, None, None, 0,    None, None))"
      ]
    },
    {
      "cell_type": "code",
      "execution_count": 7,
      "metadata": {
        "id": "8Myn5TZtu6as"
      },
      "outputs": [],
      "source": [
        "def B(v, params, sizes, arrays):\n",
        "    xn, zn = sizes\n",
        "    xind, yind = jnp.arange(xn), jnp.arange(zn)\n",
        "    return B_vmap(v, params, arrays, xind, yind, xind)\n",
        "\n",
        "B = jax.jit(B, static_argnums=(2,))"
      ]
    },
    {
      "cell_type": "code",
      "execution_count": 8,
      "metadata": {
        "id": "aRpjBHBxvUl3"
      },
      "outputs": [],
      "source": [
        "def T(v, params, sizes, arrays):\n",
        "    \"The Bellman operator.\"\n",
        "    return jnp.max(B(v, params, sizes, arrays), axis=-1)\n",
        "\n",
        "T = jax.jit(T, static_argnums=(2,))"
      ]
    },
    {
      "cell_type": "code",
      "execution_count": 9,
      "metadata": {
        "id": "KVi9poCgvW3y"
      },
      "outputs": [],
      "source": [
        "def get_greedy(v, params, sizes, arrays):\n",
        "    \"Computes a v-greedy policy, returned as a set of indices.\"\n",
        "    return jnp.argmax(B(v, params, sizes, arrays), axis=-1)\n",
        "\n",
        "get_greedy = jax.jit(get_greedy, static_argnums=(2,))"
      ]
    },
    {
      "cell_type": "code",
      "execution_count": 10,
      "metadata": {
        "id": "SBXUSPWjvZT9"
      },
      "outputs": [],
      "source": [
        "def _compute_r_σ(pol_σ, params, arrays, i, j):\n",
        "\n",
        "    # Unpack model\n",
        "    β ,γ ,δ ,θ ,α ,ρ ,σ ,π ,zl,zh,ψ ,λ0,λ1,w ,r = params\n",
        "    ag, kg, zg, zp = arrays\n",
        "    # Compute r_σ[i, j]\n",
        "    a, k, z, ap, kp  = ag[i], kg[i], zg[j], ag[pol_σ[i, j]], kg[pol_σ[i, j]]\n",
        "\n",
        "    μ = θ / (θ - 1)\n",
        "    l = (z * (k ** α) )**((θ - 1)/(1 + α*(θ-1))) * ((μ * w) / (1-α))**(-θ / (1 + α*(θ-1)))\n",
        "    y = z * (k ** α) * (l ** (1-α))\n",
        "    pi = y ** ((θ-1)/θ) - w * l - (r+δ) * k + (1+r) * a\n",
        "\n",
        "    adj = ψ * ( (kp - k) ** 2 ) / ( 2 * k )\n",
        "    c = pi - adj - ap\n",
        "\n",
        "    r_σ = (c ** (1-γ) - 1) / (1-γ)\n",
        "\n",
        "    return r_σ"
      ]
    },
    {
      "cell_type": "code",
      "execution_count": 11,
      "metadata": {
        "id": "OoadGQgCwFxi"
      },
      "outputs": [],
      "source": [
        "r_1 = jax.vmap(_compute_r_σ,  in_axes=(None, None, None, None, 0))\n",
        "r_σ_vmap = jax.vmap(r_1,      in_axes=(None, None, None, 0,    None))"
      ]
    },
    {
      "cell_type": "code",
      "execution_count": 12,
      "metadata": {
        "id": "2wOZgfg4wGnF"
      },
      "outputs": [],
      "source": [
        "def compute_r_σ(pol_σ, params, sizes, arrays):\n",
        "    xn, zn = sizes\n",
        "\n",
        "    xind, yind = jnp.arange(xn), jnp.arange(zn)\n",
        "    return r_σ_vmap(pol_σ, params, arrays, xind, yind)\n",
        "\n",
        "compute_r_σ = jax.jit(compute_r_σ, static_argnums=(2,))"
      ]
    },
    {
      "cell_type": "code",
      "execution_count": 13,
      "metadata": {
        "id": "dJNOIIiuwcMy"
      },
      "outputs": [],
      "source": [
        "def _T_σ(v, pol_σ, params, arrays, i, j):\n",
        "\n",
        "    # Unpack model\n",
        "    β ,γ ,δ ,θ ,α ,ρ ,σ ,π ,zl,zh,ψ ,λ0,λ1,w ,r = params\n",
        "    ag, kg, zg, zp = arrays\n",
        "\n",
        "    r_σ  = _compute_r_σ(pol_σ, params, arrays, i, j)\n",
        "    # Calculate the expected sum Σ_jp v[σ[i, j], jp] * Q[i, j, jp]\n",
        "    EV = jnp.sum(v[pol_σ[i, j], :] * zp[j, :])\n",
        "\n",
        "    return r_σ + β * EV\n",
        "\n",
        "\n",
        "T_1 = jax.vmap(_T_σ,      in_axes=(None, None, None, None, None, 0))\n",
        "T_σ_vmap = jax.vmap(T_1,  in_axes=(None, None, None, None, 0,    None))\n",
        "\n",
        "def T_σ(v, pol_σ, params, sizes, arrays):\n",
        "    xn, zn = sizes\n",
        "    xind, yind = jnp.arange(xn), jnp.arange(zn)\n",
        "    return T_σ_vmap(v, pol_σ, params, arrays, xind, yind)\n",
        "\n",
        "T_σ = jax.jit(T_σ, static_argnums=(3,))"
      ]
    },
    {
      "cell_type": "code",
      "execution_count": 14,
      "metadata": {
        "id": "BwpfnQhN1hjY"
      },
      "outputs": [],
      "source": [
        "def _L_σ(v, pol_σ, params, arrays, i, j):\n",
        "\n",
        "    # Unpack\n",
        "    β ,γ ,δ ,θ ,α ,ρ ,σ ,π ,zl,zh,ψ ,λ0,λ1,w ,r = params\n",
        "    ag, kg, zg, zp = arrays\n",
        "    # Compute and return v[i, j] - β Σ_jp v[σ[i, j], jp] * Q[j, jp]\n",
        "    return v[i, j]  - β * jnp.sum(v[pol_σ[i, j], :] * zp[j, :])\n",
        "\n",
        "L_1 = jax.vmap(_L_σ,      in_axes=(None, None, None, None, None, 0))\n",
        "L_σ_vmap = jax.vmap(L_1,  in_axes=(None, None, None, None, 0,    None))\n",
        "\n",
        "def L_σ(v, pol_σ, params, sizes, arrays):\n",
        "    xn, zn = sizes\n",
        "    xind, yind = jnp.arange(xn), jnp.arange(zn)\n",
        "    return L_σ_vmap(v, pol_σ, params, arrays, xind, yind)\n",
        "\n",
        "L_σ = jax.jit(L_σ, static_argnums=(3,))"
      ]
    },
    {
      "cell_type": "code",
      "execution_count": 15,
      "metadata": {
        "id": "n8Q8mVmB1xhE"
      },
      "outputs": [],
      "source": [
        "def get_value(pol_σ, params, sizes, arrays):\n",
        "\n",
        "    # Unpack\n",
        "    β ,γ ,δ ,θ ,α ,ρ ,σ ,π ,zl,zh,ψ ,λ0,λ1,w ,r = params\n",
        "    ag, kg, zg, zp = arrays\n",
        "\n",
        "    r_σ = compute_r_σ(pol_σ, params, sizes, arrays)\n",
        "\n",
        "    # Reduce L_σ to a function in v\n",
        "    partial_L_σ = lambda v: L_σ(v, pol_σ, params, sizes, arrays)\n",
        "\n",
        "    return jax.scipy.sparse.linalg.bicgstab(partial_L_σ, r_σ)[0]\n",
        "\n",
        "get_value = jax.jit(get_value, static_argnums=(2,))"
      ]
    },
    {
      "cell_type": "code",
      "execution_count": 16,
      "metadata": {
        "id": "oO9fDVvc20GY"
      },
      "outputs": [],
      "source": [
        "def successive_approx_jax(T,                     # Operator (callable)\n",
        "                          x_0,                   # Initial condition\n",
        "                          tol=1e-6,              # Error tolerance\n",
        "                          max_iter=10_000):      # Max iteration bound\n",
        "    def update(inputs):\n",
        "        k, x, error = inputs\n",
        "        x_new = T(x)\n",
        "        error = jnp.max(jnp.abs(x_new - x))\n",
        "        return k + 1, x_new, error\n",
        "\n",
        "    def condition_function(inputs):\n",
        "        k, x, error = inputs\n",
        "        return jnp.logical_and(error > tol, k < max_iter)\n",
        "\n",
        "    k, x, error = jax.lax.while_loop(condition_function,\n",
        "                                     update,\n",
        "                                     (1, x_0, tol + 1))\n",
        "    return x\n",
        "\n",
        "successive_approx_jax = jax.jit(successive_approx_jax, static_argnums=(0,))"
      ]
    },
    {
      "cell_type": "code",
      "execution_count": 17,
      "metadata": {
        "id": "Bt7MRvF623ry"
      },
      "outputs": [],
      "source": [
        "def iterate_policy_operator(pol_σ, v, m, params, sizes, arrays):\n",
        "\n",
        "    def update(i, v):\n",
        "        v = T_σ(v, pol_σ, params, sizes, arrays)\n",
        "        return v\n",
        "\n",
        "    v = jax.lax.fori_loop(0, m, update, v)\n",
        "    return v\n",
        "\n",
        "iterate_policy_operator = jax.jit(iterate_policy_operator,\n",
        "                                  static_argnums=(4,))"
      ]
    },
    {
      "cell_type": "code",
      "execution_count": 18,
      "metadata": {
        "id": "N7t5K8B728Dd"
      },
      "outputs": [],
      "source": [
        "def value_function_iteration(model, tol=1e-5):\n",
        "\n",
        "    params, sizes, arrays = model\n",
        "    vz = jnp.zeros(sizes)\n",
        "    _T = lambda v: T(v, params, sizes, arrays)\n",
        "    v_star = successive_approx_jax(_T, vz, tol=tol)\n",
        "    return get_greedy(v_star, params, sizes, arrays)"
      ]
    },
    {
      "cell_type": "code",
      "execution_count": 19,
      "metadata": {
        "id": "i328TNlY2-ZJ"
      },
      "outputs": [],
      "source": [
        "def policy_iteration(model, maxiter=250):\n",
        "\n",
        "    params, sizes, arrays = model\n",
        "    pol_σ = jnp.zeros(sizes, dtype=int)\n",
        "    i, error = 0, 1.0\n",
        "    while error > 0 and i < maxiter:\n",
        "        v_σ = get_value(pol_σ, params, sizes, arrays)\n",
        "        σ_new = get_greedy(v_σ, params, sizes, arrays)\n",
        "        error = jnp.max(jnp.abs(σ_new - pol_σ))\n",
        "        pol_σ = σ_new\n",
        "        i = i + 1\n",
        "        # print(f\"Concluded loop {i} with error {error}.\")\n",
        "    print(f\"Concluded after {i} iterations with error {error}.\")\n",
        "    return pol_σ"
      ]
    },
    {
      "cell_type": "code",
      "execution_count": 22,
      "metadata": {
        "id": "ObNQNzsGAHcP"
      },
      "outputs": [],
      "source": [
        "@njit(parallel=True)\n",
        "def simul_x(pol_x,hist_x,hist_z,N,T):\n",
        "    for i in prange(N):\n",
        "        for t in range(T-1):\n",
        "            hist_x[i,t+1] = pol_x[hist_x[i,t],hist_z[i,t]]\n",
        "    return hist_x"
      ]
    },
    {
      "cell_type": "code",
      "execution_count": 23,
      "metadata": {
        "id": "ujoa9pF7AVeD"
      },
      "outputs": [],
      "source": [
        "def simul(pol_x,N,T,\n",
        "          constants, sizes, arrays,\n",
        "          dist_x,\n",
        "          verbose = True):\n",
        "\n",
        "    β ,γ ,δ ,θ ,α ,ρ ,σ ,π ,zl,zh,ψ ,λ0,λ1,w ,r = constants\n",
        "    xn, zn = sizes\n",
        "    ag, kg, zg, zp = arrays\n",
        "\n",
        "    hist_x = np.zeros((N,T)).astype(int)\n",
        "    hist_x[:,0] = dist_x\n",
        "\n",
        "    np.random.seed(1234)\n",
        "    mc = MarkovChain(zp)\n",
        "\n",
        "    init_z = np.concatenate( (  np.full( int(N*π) , int(0.25*zn) ), np.full( N - int(N*π) , int(0.75*zn)) )  )\n",
        "    hist_z = mc.simulate_indices(ts_length = T, init = init_z)\n",
        "\n",
        "    hist_x = simul_x(pol_x,hist_x,hist_z,N,T)\n",
        "\n",
        "    if verbose:\n",
        "        print('Simulations complete!')\n",
        "\n",
        "    return hist_x, hist_z"
      ]
    },
    {
      "cell_type": "code",
      "execution_count": 25,
      "metadata": {
        "id": "RO_M0vJXDcDH"
      },
      "outputs": [],
      "source": [
        "model = Model()\n",
        "constants, sizes, arrays = model\n",
        "ag, kg, zg, zp = arrays\n",
        "xn, zn = sizes"
      ]
    },
    {
      "cell_type": "code",
      "execution_count": null,
      "metadata": {
        "colab": {
          "base_uri": "https://localhost:8080/"
        },
        "id": "PWFPN8W7AVQ8",
        "outputId": "3310df28-dc09-42c1-b561-f7a4b3e65f58"
      },
      "outputs": [],
      "source": [
        "rg = np.array([0.01, 0.02, 0.03, 0.04, 0.05, 0.10])\n",
        "rn = len(rg)\n",
        "\n",
        "pol_x_r, pol_a_r, pol_k_r = np.zeros((xn,zn,rn)), np.zeros((xn,zn,rn)), np.zeros((xn,zn,rn))\n",
        "\n",
        "for ri in range(rn):\n",
        "\n",
        "    print(\"----------- r iteration:\", ri + 1 ,\"of\", rn)\n",
        "\n",
        "    model = Model(r = rg[ri])\n",
        "\n",
        "    # pol_x = value_function_iteration(model)\n",
        "    pol_x = policy_iteration(model, maxiter=20)\n",
        "\n",
        "    pol_a, pol_k = ag[pol_x], kg[pol_x]\n",
        "\n",
        "    pol_x_r[:,:,ri], pol_a_r[:,:,ri], pol_k_r[:,:,ri] = pol_x, pol_a, pol_k\n"
      ]
    },
    {
      "cell_type": "code",
      "execution_count": null,
      "metadata": {
        "colab": {
          "base_uri": "https://localhost:8080/",
          "height": 445
        },
        "id": "PWuxjeUPAne3",
        "outputId": "3422ad4d-aadf-41a7-bf4a-c531af5f9a4e"
      },
      "outputs": [],
      "source": [
        "model = Model(r = rg[-1])\n",
        "constants, sizes, arrays = model\n",
        "\n",
        "N  = 250000\n",
        "T  = 1000\n",
        "Ts = 800\n",
        "\n",
        "hist_x, hist_z = simul(pol_x_r[:,:,-1],N,Ts,constants, sizes, arrays,dist_x=np.ones(N)*2000,verbose=False)\n",
        "\n",
        "hist_a = pol_a[hist_x,hist_z]\n",
        "hist_k = pol_k[hist_x,hist_z]\n",
        "\n",
        "evol_a = np.mean(hist_a, axis=0)\n",
        "evol_k = np.mean(hist_k, axis=0)\n",
        "\n",
        "plt.plot(evol_a)\n",
        "plt.plot(evol_k)\n",
        "plt.show()"
      ]
    },
    {
      "cell_type": "code",
      "execution_count": null,
      "metadata": {
        "colab": {
          "base_uri": "https://localhost:8080/",
          "height": 469
        },
        "id": "rvzxf8t8xrQL",
        "outputId": "048572de-1351-42d2-af6f-18df44943bc5"
      },
      "outputs": [],
      "source": [
        "β ,γ ,δ ,θ ,α ,ρ ,σ ,π ,zl,zh,ψ ,λ0,λ1,w ,r = constants\n",
        "ag, kg, zg, zp = arrays\n",
        "xn, zn = sizes\n",
        "\n",
        "ind_zl = hist_z[:,-1] <  zn/2\n",
        "ind_zh = hist_z[:,-1] >= zn/2\n",
        "\n",
        "df_dist = pd.DataFrame(hist_a[:,-1], columns=['a'])\n",
        "df_dist['k'] = hist_k[:,-1]\n",
        "df_dist['type'] = ind_zh\n",
        "\n",
        "fig, axes = plt.subplots(1, 2, figsize=(12, 5))  # 1 row, 2 columns\n",
        "sns.kdeplot(data=df_dist, x=\"a\", hue=\"type\", ax=axes[0], bw_adjust=5, cut=0)\n",
        "sns.kdeplot(data=df_dist, x=\"k\", hue=\"type\", ax=axes[1], bw_adjust=5, cut=0)\n",
        "axes[0].legend(title=r'$z^P$', labels=[r'$z_H$', r'$z_L$'])\n",
        "axes[1].legend(title=r'$z^P$', labels=[r'$z_H$', r'$z_L$'])\n",
        "axes[0].set_title('Net worth')\n",
        "axes[1].set_title('Capital')\n",
        "plt.tight_layout()\n",
        "plt.show()\n"
      ]
    },
    {
      "cell_type": "code",
      "execution_count": 30,
      "metadata": {
        "id": "nfVlTJtBAqJ3"
      },
      "outputs": [],
      "source": [
        "r_path = np.array([6,6,5,5,5,4,3,1,2,2,1,1,1,1,2,3,2,3,2,2,2,2,2,2,2,2])-1\n",
        "\n",
        "dist_x = hist_x[:,-1]\n",
        "hist_x_t, hist_z_t = np.zeros((N,len(r_path))).astype(int), np.zeros((N,len(r_path))).astype(int)\n",
        "\n",
        "for ri in range(len(r_path)):\n",
        "\n",
        "    model = Model(r = rg[r_path[ri]])\n",
        "    constants, sizes, arrays = model\n",
        "\n",
        "    pol_x = pol_x_r[:,:,r_path[ri]]\n",
        "\n",
        "    hist_x_temp, hist_z_temp = simul(pol_x,N,2,constants, sizes, arrays,dist_x=dist_x,verbose=False)\n",
        "\n",
        "    hist_x_t[:,ri], hist_z_t[:,ri] = hist_x_temp[:,-1], hist_z_temp[:,-1]\n",
        "\n",
        "    dist_x = hist_x_t[:,ri]\n"
      ]
    },
    {
      "cell_type": "code",
      "execution_count": 31,
      "metadata": {
        "id": "qZ24G1HmF3DN"
      },
      "outputs": [],
      "source": [
        "β ,γ ,δ ,θ ,α ,ρ ,σ ,π ,zl,zh,ψ ,λ0,λ1,w ,r = constants\n",
        "\n",
        "hist_r_t = np.tile(r_path[:,np.newaxis].T,(N,1))\n",
        "\n",
        "hist_a_t = pol_a_r[hist_x_t,hist_z_t,hist_r_t]\n",
        "hist_k_t = pol_k_r[hist_x_t,hist_z_t,hist_r_t]\n",
        "\n",
        "evol_a_t = np.mean(hist_a_t, axis=0)\n",
        "evol_k_t = np.mean(hist_k_t, axis=0)\n",
        "\n",
        "μ = θ / (θ - 1)\n",
        "\n",
        "hist_l_t = (zg[hist_z_t] * (hist_k_t ** α) )**((θ - 1)/(1 + α*(θ-1))) * ((μ * w) / (1-α))**(-θ / (1 + α*(θ-1)))\n",
        "hist_y_t = zg[hist_z_t] * (hist_k_t ** α) * (hist_l_t ** (1-α))\n",
        "hist_p_t = hist_y_t ** (-1/θ)\n",
        "\n",
        "hist_mrpl_t = ( (1-α) / μ) * ( hist_y_t ** ((θ-1)/θ) ) / hist_l_t\n",
        "hist_mrpk_t = ( α / μ) * ( hist_y_t ** ((θ-1)/θ) ) / hist_k_t\n",
        "\n",
        "evol_sdmrpl_t = np.std( np.log(hist_mrpl_t) , axis=0)\n",
        "evol_sdmrpk_t = np.std( np.log(hist_mrpk_t) , axis=0)\n",
        "\n",
        "hist_tfpr_t = μ * (( hist_mrpk_t / α ) ** α ) * (( hist_mrpl_t / (1-α) ) ** (1-α) )\n",
        "evol_tfpr_t = np.mean(np.log(hist_tfpr_t), axis=0)\n",
        "\n",
        "evol_logtfpa_t = np.log( ( np.sum( hist_y_t ** ((θ-1)/θ) , axis=0) ** (θ/(θ-1)) ) / ( ( np.sum( hist_k_t , axis=0) ** α ) * ( np.sum( hist_l_t , axis=0) ** (1-α) ) ) )\n",
        "evol_logtfpe_t = np.log( np.sum( zg[hist_z_t] ** (θ-1) , axis=0) ** (1/(θ-1)) )\n",
        "\n",
        "evol_dev_logtfp_t = evol_logtfpa_t - evol_logtfpe_t\n",
        "\n",
        "years = np.arange(1992,2017+1,dtype=int)\n",
        "\n",
        "fig, ax = plt.subplots(2,2)\n",
        "fig.set_size_inches(11, 8)\n",
        "ax[0,0].plot(years, rg[r_path])\n",
        "ax[0,0].set_title(\"Real interest rate\")\n",
        "ax[0,1].plot(years, evol_k_t / evol_k_t[0])\n",
        "ax[0,1].set_title(\"Aggregate capital\")\n",
        "ax[1,0].plot(years, evol_sdmrpk_t - evol_sdmrpk_t[0])\n",
        "ax[1,0].set_title(\"Change in SD Log(MPRK)\")\n",
        "ax[1,1].plot(years, evol_dev_logtfp_t - evol_dev_logtfp_t[0])\n",
        "ax[1,1].set_title(\"Log(TFP) - Log(TFPe)\")\n",
        "\n",
        "plt.show()"
      ]
    }
  ],
  "metadata": {
    "accelerator": "GPU",
    "colab": {
      "gpuType": "L4",
      "machine_shape": "hm",
      "provenance": []
    },
    "kernelspec": {
      "display_name": "Python 3",
      "name": "python3"
    },
    "language_info": {
      "codemirror_mode": {
        "name": "ipython",
        "version": 3
      },
      "file_extension": ".py",
      "mimetype": "text/x-python",
      "name": "python",
      "nbconvert_exporter": "python",
      "pygments_lexer": "ipython3",
      "version": "3.11.1"
    }
  },
  "nbformat": 4,
  "nbformat_minor": 0
}
